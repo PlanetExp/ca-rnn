{
 "cells": [
  {
   "cell_type": "code",
   "execution_count": 1,
   "metadata": {
    "collapsed": false
   },
   "outputs": [],
   "source": [
    "import tensorflow as tf\n",
    "\n",
    "'''\n",
    "Want:\n",
    "in [1, 0, 1]\n",
    "Out bool connected/-connected\n",
    "'''\n",
    "\n",
    "class GRUCell(object):\n",
    "    def __init__(self, state_size):\n",
    "        self._state_size = state_size\n",
    "        \n",
    "    @property\n",
    "    def state_size(self):\n",
    "        return self._state_size\n",
    "    \n",
    "#     def zero_state(self, batch_size):\n",
    "#         return \n",
    "        \n",
    "    def __call__(self, inputs, state):\n",
    "        with tf.name_scope('GRUCell'):\n",
    "            # z = update, r = reset, c = candidate, h = new state\n",
    "            z = tf.sigmoid(tf.matmul(U[0], x) + tf.matmul(W[0], state) + b[0])\n",
    "            r = tf.sigmoid(tf.matmul(U[1], x) + tf.matmul(W[1], state) + b[1])\n",
    "            c = tf.tanh((tf.matmul(U[2], x) + tf.matmul(W[2], state) * r) + b[2])\n",
    "            new_h = (1 - z) * c + state * z\n",
    "            return new_h, new_h\n",
    "\n",
    "        \n",
    "class ca_rnn(object):\n",
    "    def __init__(self,\n",
    "                 state_size=4,\n",
    "                 batch_size=32):\n",
    "\n",
    "        # x_t [1, 1, 1]\n",
    "        x = tf.placeholder(tf.float32, shape=[state_size, 1], name='x_t')\n",
    "        \n",
    "        # each cell on the board is an input\n",
    "        inputs = \n",
    "        \n",
    "        with tf.variable_scope('weights') as scope:\n",
    "            U = tf.get_variable('U', [3, state_size, state_size])\n",
    "            W = tf.get_variable('W', [3, state_size, state_size])\n",
    "            b = tf.get_variable('b', [3, state_size], initializer=tf.constant_initializer(1.0))\n",
    "\n",
    "        zero_state = tf.zeros([batch_size, state_size])\n",
    "        cell = GRUCell(state_size)\n",
    "\n",
    "        outputs = []\n",
    "        for t, input_ in enumerate(inputs):\n",
    "            if t > 0: \n",
    "                scope.reuse_variables()\n",
    "                \n",
    "            output, state = cell(input_, state)\n",
    "            outputs.append(output)\n",
    "        \n",
    "def train_network(model, global_steps):\n",
    "    \n",
    "    tf.reset_default_graph()\n",
    "    init = tf.global_variables_initializer()\n",
    "    \n",
    "    with tf.Session() as sess:\n",
    "        sess.run(init)\n",
    "\n",
    "        writer = tf.summary.FileWriter('./graphs/run1', sess.graph)\n",
    "\n",
    "    #     print(sess.run(c, feed_dict={a: [1, 1]} ))\n",
    "\n",
    "        writer.close()\n",
    "\n",
    "\n",
    "model = ca_rnn(4, 1)\n",
    "train_network(model, 5)"
   ]
  },
  {
   "cell_type": "code",
   "execution_count": null,
   "metadata": {
    "collapsed": true
   },
   "outputs": [],
   "source": []
  }
 ],
 "metadata": {
  "kernelspec": {
   "display_name": "Python 3",
   "language": "python",
   "name": "python3"
  },
  "language_info": {
   "codemirror_mode": {
    "name": "ipython",
    "version": 3
   },
   "file_extension": ".py",
   "mimetype": "text/x-python",
   "name": "python",
   "nbconvert_exporter": "python",
   "pygments_lexer": "ipython3",
   "version": "3.6.0"
  }
 },
 "nbformat": 4,
 "nbformat_minor": 2
}
