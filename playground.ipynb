{
 "cells": [
  {
   "cell_type": "code",
   "execution_count": 3,
   "metadata": {
    "collapsed": false
   },
   "outputs": [
    {
     "name": "stdout",
     "output_type": "stream",
     "text": [
      "[0 1 2 3 4 5 6 7 8] \n",
      "\n",
      "1\n",
      "neighbourhood 0 [0 1]\n",
      "3\n",
      "neighbourhood 1 [0 1 2]\n",
      "6\n",
      "neighbourhood 2 [1 2 3]\n",
      "9\n",
      "neighbourhood 3 [2 3 4]\n",
      "12\n",
      "neighbourhood 4 [3 4 5]\n",
      "15\n",
      "neighbourhood 5 [4 5 6]\n",
      "18\n",
      "neighbourhood 6 [5 6 7]\n",
      "21\n",
      "neighbourhood 7 [6 7 8]\n",
      "15\n",
      "neighbourhood 8 [7 8]\n"
     ]
    }
   ],
   "source": [
    "import numpy as np\n",
    "\n",
    "'''\n",
    "for every g in generations // loopy version, inefficient v2\n",
    "\tfor every N in Ndim\n",
    "\t\tfor every cell in N // do this for every cell\n",
    "\t\t\tfor every N in Ndims // get the neighbourhood of cell\n",
    "\t\t\t\tget neighbourhood cells to cell for every N in Ndims // going to be 3 per N dim = 3 * Ndims\n",
    "\t\t\tfor every cell in neighbourhood\n",
    "\t\t\t\tget prev cell state for every cell in neighbourhood // state is vector of activations\n",
    "\t\t\t\t\tif no cell state\n",
    "\t\t\t\t\t\tcell state is zero_state\n",
    "\t\t\tconcat prev cell states to one neighbourhood state // neighbourhood is Ndim matrix of state vectors\n",
    "\t\t\tget new cell state from neighbourhood states and input // for next generation\n",
    "\n",
    "'''\n",
    "\n",
    "class Cell(object):\n",
    "    def __init__(self):\n",
    "        pass\n",
    "    def __call__(self, in_, state):\n",
    "        return 1\n",
    "\n",
    "\n",
    "    # 1d\n",
    "batch = 1\n",
    "window = 3\n",
    "\n",
    "a = np.arange(9).reshape((batch, 9))\n",
    "print (a[0], '\\n')\n",
    "\n",
    "for g in range(1):\n",
    "    \n",
    "    neighbourhoods = []\n",
    "    for i in range(len(a[0])):\n",
    "        index = i + 2\n",
    "        neighbourhood = a[0][max(0, index - window):index]\n",
    "        for n, neighbour in enumerate(neighbourhood):\n",
    "            # print ('neighbour', neighbour)\n",
    "            if not neighbour:  # if no state\n",
    "                neighbourhood[n] = 0;  # get zero_state\n",
    "        \n",
    "        # do something with neighbourhood\n",
    "        # calculate new cell state\n",
    "        print(np.sum(neighbourhood))\n",
    "        print ('neighbourhood', i, neighbourhood)\n",
    "        \n",
    "        # print ('neighbourhood', neighbourhood)\n",
    "#         neighbourhoods.append(neighbourhood)\n",
    "        \n",
    "#     neighbourhoods = np.concatenate(neighbourhoods, axis=1)\n",
    "#     print ('neighbourhoods', neighbourhoods)\n",
    "    \n",
    "#         state = np.sum(neighbourhood, axis=0)  # concat\n",
    "#         print ('cell {} with neighours {}'.format(c, neighbourhood))\n",
    "#         print (state)\n",
    "    \n",
    "#     for N in range(len(a.shape)):\n",
    "#         print (N)\n",
    "#         for cell in range(a.shape[N]):\n",
    "#             print('cell {} in dim {}'.format(cell, N))\n",
    "#             neighbourhood = np.zeros([3] * len(a.shape))\n",
    "#             for n in range(len(neighbourhood.shape)):\n",
    "#                 for i in range(neighbourhood.shape[n]):\n",
    "#                     neighbourhood[n][i] = 1\n",
    "\n",
    "#             print (neighbourhood)"
   ]
  },
  {
   "cell_type": "code",
   "execution_count": null,
   "metadata": {
    "collapsed": true
   },
   "outputs": [],
   "source": []
  },
  {
   "cell_type": "code",
   "execution_count": null,
   "metadata": {
    "collapsed": true
   },
   "outputs": [],
   "source": []
  }
 ],
 "metadata": {
  "kernelspec": {
   "display_name": "Python 3",
   "language": "python",
   "name": "python3"
  },
  "language_info": {
   "codemirror_mode": {
    "name": "ipython",
    "version": 3
   },
   "file_extension": ".py",
   "mimetype": "text/x-python",
   "name": "python",
   "nbconvert_exporter": "python",
   "pygments_lexer": "ipython3",
   "version": "3.6.0"
  }
 },
 "nbformat": 4,
 "nbformat_minor": 2
}
