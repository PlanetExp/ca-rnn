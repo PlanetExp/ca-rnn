{
 "cells": [
  {
   "cell_type": "markdown",
   "metadata": {},
   "source": [
    "# RNN CA\n",
    "\n",
    "CA RNN with GRU cells unfolded network\n",
    "\n",
    "1. unfolded network graph (tensorboard)\n",
    "2. framework\n",
    " \n",
    "\n",
    "The cell state is a function of its previous state, the output of its neighbours and the input.\n",
    "\n",
    "$s_{t+1} = f(s_t, O_N, x_i)$\n",
    "\n",
    "Two class problem"
   ]
  },
  {
   "cell_type": "code",
   "execution_count": null,
   "metadata": {
    "collapsed": true
   },
   "outputs": [],
   "source": []
  }
 ],
 "metadata": {
  "kernelspec": {
   "display_name": "Python 3",
   "language": "python",
   "name": "python3"
  },
  "language_info": {
   "codemirror_mode": {
    "name": "ipython",
    "version": 3
   },
   "file_extension": ".py",
   "mimetype": "text/x-python",
   "name": "python",
   "nbconvert_exporter": "python",
   "pygments_lexer": "ipython3",
   "version": "3.6.0"
  }
 },
 "nbformat": 4,
 "nbformat_minor": 2
}
